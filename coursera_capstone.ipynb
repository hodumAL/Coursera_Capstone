{
 "cells": [
  {
   "cell_type": "code",
   "execution_count": 1,
   "metadata": {},
   "outputs": [
    {
     "name": "stdout",
     "output_type": "stream",
     "text": [
      "Hello Capstone Project Course!\n"
     ]
    }
   ],
   "source": [
    "##Import Libraries and Start Reading Data \n",
    "import pandas as pd \n",
    "import numpy as np \n",
    "print(\"Hello Capstone Project Course!\")"
   ]
  },
  {
   "cell_type": "code",
   "execution_count": 28,
   "metadata": {},
   "outputs": [],
   "source": [
    "from bs4 import BeautifulSoup\n",
    "import requests"
   ]
  },
  {
   "cell_type": "markdown",
   "metadata": {},
   "source": [
    "### Import Wikipedia library and pull in data table"
   ]
  },
  {
   "cell_type": "code",
   "execution_count": 37,
   "metadata": {},
   "outputs": [
    {
     "data": {
      "text/html": [
       "<div>\n",
       "<style scoped>\n",
       "    .dataframe tbody tr th:only-of-type {\n",
       "        vertical-align: middle;\n",
       "    }\n",
       "\n",
       "    .dataframe tbody tr th {\n",
       "        vertical-align: top;\n",
       "    }\n",
       "\n",
       "    .dataframe thead th {\n",
       "        text-align: right;\n",
       "    }\n",
       "</style>\n",
       "<table border=\"1\" class=\"dataframe\">\n",
       "  <thead>\n",
       "    <tr style=\"text-align: right;\">\n",
       "      <th></th>\n",
       "      <th>Postcode</th>\n",
       "      <th>Borough</th>\n",
       "      <th>Neighbourhood</th>\n",
       "    </tr>\n",
       "  </thead>\n",
       "  <tbody>\n",
       "    <tr>\n",
       "      <th>0</th>\n",
       "      <td>M1A</td>\n",
       "      <td>Not assigned</td>\n",
       "      <td>Not assigned</td>\n",
       "    </tr>\n",
       "    <tr>\n",
       "      <th>1</th>\n",
       "      <td>M2A</td>\n",
       "      <td>Not assigned</td>\n",
       "      <td>Not assigned</td>\n",
       "    </tr>\n",
       "    <tr>\n",
       "      <th>2</th>\n",
       "      <td>M3A</td>\n",
       "      <td>North York</td>\n",
       "      <td>Parkwoods</td>\n",
       "    </tr>\n",
       "    <tr>\n",
       "      <th>3</th>\n",
       "      <td>M4A</td>\n",
       "      <td>North York</td>\n",
       "      <td>Victoria Village</td>\n",
       "    </tr>\n",
       "    <tr>\n",
       "      <th>4</th>\n",
       "      <td>M5A</td>\n",
       "      <td>Downtown Toronto</td>\n",
       "      <td>Harbourfront</td>\n",
       "    </tr>\n",
       "  </tbody>\n",
       "</table>\n",
       "</div>"
      ],
      "text/plain": [
       "  Postcode           Borough     Neighbourhood\n",
       "0      M1A      Not assigned      Not assigned\n",
       "1      M2A      Not assigned      Not assigned\n",
       "2      M3A        North York         Parkwoods\n",
       "3      M4A        North York  Victoria Village\n",
       "4      M5A  Downtown Toronto      Harbourfront"
      ]
     },
     "execution_count": 37,
     "metadata": {},
     "output_type": "execute_result"
    }
   ],
   "source": [
    "import wikipedia as wp\n",
    " \n",
    "#Get the html source\n",
    "html = wp.page(\"List_of_postal_codes_of_Canada:_M\").html().encode(\"UTF-8\") #set source of html\n",
    "df = pd.read_html(html,header=0)[0] #read in html to dataframe\n",
    "df.head() #let's see it\n"
   ]
  },
  {
   "cell_type": "markdown",
   "metadata": {},
   "source": [
    "### Clean up dataframe"
   ]
  },
  {
   "cell_type": "code",
   "execution_count": 38,
   "metadata": {},
   "outputs": [
    {
     "name": "stdout",
     "output_type": "stream",
     "text": [
      "                   Borough                                      Neighbourhood\n",
      "Postcode                                                                     \n",
      "M1B            Scarborough                                     Malvern, Rouge\n",
      "M1C            Scarborough             Highland Creek, Rouge Hill, Port Union\n",
      "M1E            Scarborough                  Morningside, West Hill, Guildwood\n",
      "M1G            Scarborough                                             Woburn\n",
      "M1H            Scarborough                                          Cedarbrae\n",
      "M1J            Scarborough                                Scarborough Village\n",
      "M1K            Scarborough        Ionview, Kennedy Park, East Birchmount Park\n",
      "M1L            Scarborough                    Golden Mile, Clairlea, Oakridge\n",
      "M1M            Scarborough    Cliffcrest, Scarborough Village West, Cliffside\n",
      "M1N            Scarborough                        Birch Cliff, Cliffside West\n",
      "M1P            Scarborough  Dorset Park, Scarborough Town Centre, Wexford ...\n",
      "M1R            Scarborough                                  Wexford, Maryvale\n",
      "M1S            Scarborough                                          Agincourt\n",
      "M1T            Scarborough            Clarks Corners, Sullivan, Tam O'Shanter\n",
      "M1V            Scarborough  Milliken, L'Amoreaux East, Agincourt North, St...\n",
      "M1W            Scarborough                      Steeles West, L'Amoreaux West\n",
      "M1X            Scarborough                                        Upper Rouge\n",
      "M2H             North York                                  Hillcrest Village\n",
      "M2J             North York                       Oriole, Fairview, Henry Farm\n",
      "M2K             North York                                    Bayview Village\n",
      "M2L             North York                           York Mills, Silver Hills\n",
      "M2M             North York                            Newtonbrook, Willowdale\n",
      "M2N             North York                                   Willowdale South\n",
      "M2P             North York                                    York Mills West\n",
      "M2R             North York                                    Willowdale West\n",
      "M3A             North York                                          Parkwoods\n",
      "M3B             North York                                    Don Mills North\n",
      "M3C             North York                   Flemingdon Park, Don Mills South\n",
      "M3H             North York    Downsview North, Bathurst Manor, Wilson Heights\n",
      "M3J             North York                    York University, Northwood Park\n",
      "...                    ...                                                ...\n",
      "M6C                   York                                 Humewood-Cedarvale\n",
      "M6E                   York                                Caledonia-Fairbanks\n",
      "M6G       Downtown Toronto                                           Christie\n",
      "M6H           West Toronto                       Dovercourt Village, Dufferin\n",
      "M6J           West Toronto                           Little Portugal, Trinity\n",
      "M6K           West Toronto       Parkdale Village, Brockton, Exhibition Place\n",
      "M6L             North York           North Park, Maple Leaf Park, Upwood Park\n",
      "M6M                   York     Mount Dennis, Keelesdale, Silverthorn, Del Ray\n",
      "M6N                   York                      The Junction North, Runnymede\n",
      "M6P           West Toronto                      The Junction South, High Park\n",
      "M6R           West Toronto                             Parkdale, Roncesvalles\n",
      "M6S           West Toronto                                 Swansea, Runnymede\n",
      "M7A           Queen's Park                                       Queen's Park\n",
      "M7R            Mississauga              Canada Post Gateway Processing Centre\n",
      "M7Y           East Toronto   Business reply mail Processing Centre969 Eastern\n",
      "M8V              Etobicoke       Humber Bay Shores, New Toronto, Mimico South\n",
      "M8W              Etobicoke                             Long Branch, Alderwood\n",
      "M8X              Etobicoke      Montgomery Road, Old Mill North, The Kingsway\n",
      "M8Y              Etobicoke  Kingsway Park South East, King's Mill Park, Th...\n",
      "M8Z              Etobicoke  Mimico NW, Kingsway Park South West, The Queen...\n",
      "M9A              Etobicoke                                   Islington Avenue\n",
      "M9B              Etobicoke  Islington, West Deane Park, Martin Grove, Prin...\n",
      "M9C              Etobicoke  Eringate, Bloordale Gardens, Old Burnhamthorpe...\n",
      "M9L             North York                                      Humber Summit\n",
      "M9M             North York                                   Humberlea, Emery\n",
      "M9N                   York                                             Weston\n",
      "M9P              Etobicoke                                          Westmount\n",
      "M9R              Etobicoke  Martin Grove Gardens, Kingsview Village, Richv...\n",
      "M9V              Etobicoke  South Steeles, Jamestown, Mount Olive, Humberg...\n",
      "M9W              Etobicoke                                          Northwest\n",
      "\n",
      "[103 rows x 2 columns]\n"
     ]
    }
   ],
   "source": [
    "\n",
    "df = df[~df.Borough.str.contains(\"Not assigned\")]\n",
    "df = df.groupby(df['Postcode']).aggregate(lambda x: ', '.join(set(x.dropna()))) #group by borough and add columns if multiple neighbourhoods\n",
    "df.loc[df['Neighbourhood']=='Not assigned'] = df.loc[df['Neighbourhood']=='Not assigned','Borough'].iloc[0] #if neighbourhood not assigned set = to borough\n",
    "print (df)"
   ]
  },
  {
   "cell_type": "code",
   "execution_count": 39,
   "metadata": {},
   "outputs": [
    {
     "data": {
      "text/plain": [
       "(103, 2)"
      ]
     },
     "execution_count": 39,
     "metadata": {},
     "output_type": "execute_result"
    }
   ],
   "source": [
    "df.shape"
   ]
  },
  {
   "cell_type": "code",
   "execution_count": null,
   "metadata": {},
   "outputs": [],
   "source": []
  }
 ],
 "metadata": {
  "kernelspec": {
   "display_name": "Python 3",
   "language": "python",
   "name": "python3"
  },
  "language_info": {
   "codemirror_mode": {
    "name": "ipython",
    "version": 3
   },
   "file_extension": ".py",
   "mimetype": "text/x-python",
   "name": "python",
   "nbconvert_exporter": "python",
   "pygments_lexer": "ipython3",
   "version": "3.7.0"
  }
 },
 "nbformat": 4,
 "nbformat_minor": 2
}
